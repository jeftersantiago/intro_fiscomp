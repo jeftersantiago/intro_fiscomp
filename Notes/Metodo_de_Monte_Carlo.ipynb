{
  "nbformat": 4,
  "nbformat_minor": 0,
  "metadata": {
    "colab": {
      "provenance": [],
      "collapsed_sections": [],
      "authorship_tag": "ABX9TyO5r5o+F4MBviZefUy73q8j",
      "include_colab_link": true
    },
    "kernelspec": {
      "name": "python3",
      "display_name": "Python 3"
    },
    "language_info": {
      "name": "python"
    }
  },
  "cells": [
    {
      "cell_type": "markdown",
      "metadata": {
        "id": "view-in-github",
        "colab_type": "text"
      },
      "source": [
        "<a href=\"https://colab.research.google.com/github/jeftersantiago/intro_fiscomp/blob/master/Notes/Metodo_de_Monte_Carlo.ipynb\" target=\"_parent\"><img src=\"https://colab.research.google.com/assets/colab-badge.svg\" alt=\"Open In Colab\"/></a>"
      ]
    },
    {
      "cell_type": "markdown",
      "source": [
        "# Monte Carlo \n",
        "## Método de Integração Numérica\n",
        "\n",
        "Podemos escrever o valor médio de uma função $f(x)$ como \n",
        "$$ \\left\\langle f \\right\\rangle = \\frac{1}{b - a} \\int_{a}^{b} f(x) dx = \\frac{1}{N} \\sum_{i} f(x_i)$$\n",
        "\n",
        "Onde $N$ é o número de pontos usados na avaliação e $x_i$ são extritamente números aleatórios no intervalo $[a,b]$. \n"
      ],
      "metadata": {
        "id": "9UBq674lnM3R"
      }
    },
    {
      "cell_type": "markdown",
      "source": [
        "Podemos então aproximar a integral por \n",
        "$$\\boxed{  \\int_{a}^{b}f(x) dx \\approx (b-a) \\frac{1}{N} \\sum_{i} f(x_i) } $$\n"
      ],
      "metadata": {
        "id": "L60xsF_KoMwu"
      }
    },
    {
      "cell_type": "markdown",
      "source": [
        "## Exemplo\n",
        "Para a função $f(x) = x^2$ no intervalo $[0, 1]$. Ou seja \n",
        "$$ \\int_{0}^{1} x^2 dx = \\frac{x^3}{3} \\bigg\\rvert_0^{1} = \\frac{1}{3} - 0 = \\frac{1}{3} \\approx 0.3333 $$"
      ],
      "metadata": {
        "id": "fPyKr79TohFJ"
      }
    },
    {
      "cell_type": "markdown",
      "source": [
        "O código abaixo executa o cálculo **N** vezes e plota um histograma com os cálculos em cada iteração."
      ],
      "metadata": {
        "id": "aYJFMpn3soLq"
      }
    },
    {
      "cell_type": "code",
      "source": [
        "from scipy import random\n",
        "import numpy as np\n",
        "import matplotlib.pyplot as plt"
      ],
      "metadata": {
        "id": "N_xwClPAsJHo"
      },
      "execution_count": null,
      "outputs": []
    },
    {
      "cell_type": "code",
      "source": [
        "N = 10000\n",
        "a = 3\n",
        "b = 5\n",
        "\n",
        "def f(x):\n",
        "  return x**2"
      ],
      "metadata": {
        "id": "kdgLan2PoTXI"
      },
      "execution_count": null,
      "outputs": []
    },
    {
      "cell_type": "code",
      "source": [
        "areas = []\n",
        "for i in range(N):\n",
        "  integral = 0.0\n",
        "  xrand = random.uniform(a,b, N)\n",
        "\n",
        "  for j in range(N):\n",
        "    integral += f(xrand[j])\n",
        "\n",
        "  answer = (b-a) * integral * (1/float(N))\n",
        "  \n",
        "  areas.append(answer)"
      ],
      "metadata": {
        "id": "JXY-_EjjsMyg"
      },
      "execution_count": null,
      "outputs": []
    },
    {
      "cell_type": "code",
      "source": [
        "# print(len(areas))\n",
        "plt.title(\"Distribuição dos resultados\")\n",
        "plt.hist(areas, bins = 30, ec = 'black', label = '$\\int_{0}^{1} x^2 dx$')\n",
        "legend = plt.legend()\n",
        "plt.xlabel(\"Areas\")"
      ],
      "metadata": {
        "colab": {
          "base_uri": "https://localhost:8080/",
          "height": 313
        },
        "id": "V4oUujF5sRdm",
        "outputId": "a974fe33-b67b-40f9-9edf-955145c079d6"
      },
      "execution_count": null,
      "outputs": [
        {
          "output_type": "execute_result",
          "data": {
            "text/plain": [
              "Text(0.5, 0, 'Areas')"
            ]
          },
          "metadata": {},
          "execution_count": 8
        },
        {
          "output_type": "display_data",
          "data": {
            "text/plain": [
              "<Figure size 432x288 with 1 Axes>"
            ],
            "image/png": "[encoded data removed]"
          },
          "metadata": {
            "needs_background": "light"
          }
        }
      ]
    },
    {
      "cell_type": "markdown",
      "source": [
        "## Referências \n",
        " * https://en.wikipedia.org/wiki/Mean_of_a_function\n",
        " * https://www.geeksforgeeks.org/monte-carlo-integration-in-python/\n",
        " * https://boyangzhao.github.io/posts/monte-carlo-integration"
      ],
      "metadata": {
        "id": "r17SbgUas-b6"
      }
    }
  ]
}