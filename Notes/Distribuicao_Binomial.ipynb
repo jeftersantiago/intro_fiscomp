{
  "nbformat": 4,
  "nbformat_minor": 0,
  "metadata": {
    "colab": {
      "provenance": [],
      "collapsed_sections": [],
      "authorship_tag": "ABX9TyNUl/qCWjKAx9gYFn1i26NU",
      "include_colab_link": true
    },
    "kernelspec": {
      "name": "python3",
      "display_name": "Python 3"
    },
    "language_info": {
      "name": "python"
    }
  },
  "cells": [
    {
      "cell_type": "markdown",
      "metadata": {
        "id": "view-in-github",
        "colab_type": "text"
      },
      "source": [
        "<a href=\"https://colab.research.google.com/github/jeftersantiago/intro_fiscomp/blob/master/Notes/Distribuicao_Binomial.ipynb\" target=\"_parent\"><img src=\"https://colab.research.google.com/assets/colab-badge.svg\" alt=\"Open In Colab\"/></a>"
      ]
    },
    {
      "cell_type": "markdown",
      "source": [
        "# Distribuição Binomial\n",
        "Simulando o lançamento de $n$ moedas com probabilidade de sair $k$ caras. Ou seja, termos $k$ sucessos em $n$ experimentos."
      ],
      "metadata": {
        "id": "lmOJ3YHwgZ2h"
      }
    },
    {
      "cell_type": "code",
      "source": [
        "from random import seed\n",
        "from matplotlib import pyplot as plt\n",
        "import numpy as np\n",
        "from scipy.stats import binom\n",
        "import math"
      ],
      "metadata": {
        "id": "gSX_1xMvgt_O"
      },
      "execution_count": null,
      "outputs": []
    },
    {
      "cell_type": "code",
      "source": [
        "seed(100)\n",
        "\n",
        "n = 100\n",
        "p = 0.5 # Probabilidade de sair cara.\n",
        "Pk = np.zeros(n)\n",
        "vk = np.arange(0, n)\n",
        "ns = 1000\n"
      ],
      "metadata": {
        "id": "QAaD_CFSg25V"
      },
      "execution_count": null,
      "outputs": []
    },
    {
      "cell_type": "markdown",
      "source": [
        "## Simulação"
      ],
      "metadata": {
        "id": "lmx-voDph2BU"
      }
    },
    {
      "cell_type": "code",
      "source": [
        "# Simulação\n",
        "\n",
        "for j in range(0, ns):\n",
        "  S = 0 # numero de sucessos\n",
        "  for i in range(0, n):\n",
        "    r = np.random.uniform()\n",
        "    if(r <= p):\n",
        "      S += 1\n",
        "  Pk[S] = Pk[S] + 1\n",
        "Pk = Pk / sum(Pk) # normaliza a distribuicao de probabilidade\n",
        "plt.figure(figsize=(10, 6))\n",
        "plt.bar(vk, Pk, label = \"Simulação\")\n",
        "\n",
        "# Curva teórica\n",
        "\n",
        "Pkt = np.zeros(n + 1)\n",
        "vkt = np.arange(0, n + 1)\n",
        "for k in range(0, n + 1):\n",
        "  Pkt[k] = (math.factorial(n)/(math.factorial(n - k) * math.factorial(k)))*(p**k)*(1-p)**(n-k)\n",
        "plt.plot(vkt, Pkt, 'r--', label = \"Probabilidade teórica. \")\n",
        "\n",
        "plt.show()"
      ],
      "metadata": {
        "colab": {
          "base_uri": "https://localhost:8080/",
          "height": 374
        },
        "id": "OSHVPD4shDrm",
        "outputId": "05b2420a-bbdd-4b8b-963f-0b379460da2a"
      },
      "execution_count": null,
      "outputs": [
        {
          "output_type": "display_data",
          "data": {
            "text/plain": [
              "<Figure size 720x432 with 1 Axes>"
            ],
            "image/png": "[encoded data removed]"
          },
          "metadata": {
            "needs_background": "light"
          }
        }
      ]
    }
  ]
}